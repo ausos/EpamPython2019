{
 "cells": [
  {
   "cell_type": "code",
   "execution_count": 1,
   "metadata": {},
   "outputs": [],
   "source": [
    "# Sets\n",
    "pizza = {\"dough\", \"tomatoes\", \"pepperoni\", \"ground pepper\", \"sweet basil\",\n",
    "         \"a lot of cheeeese\", \"onion\", \"garlic\", \"salt\", \"oregano\"}\n",
    "shaverma = {\"lavash\", \"cucumbers\", \"tomatoes\", \"sauce\", \"fried chicken\", \"onion\", \"cabbage\"}"
   ]
  },
  {
   "cell_type": "code",
   "execution_count": 2,
   "metadata": {},
   "outputs": [
    {
     "data": {
      "text/plain": [
       "False"
      ]
     },
     "execution_count": 2,
     "metadata": {},
     "output_type": "execute_result"
    }
   ],
   "source": [
    "#Не имеют общих элементов\n",
    "pizza.isdisjoint(shaverma)"
   ]
  },
  {
   "cell_type": "code",
   "execution_count": 3,
   "metadata": {},
   "outputs": [
    {
     "data": {
      "text/plain": [
       "False"
      ]
     },
     "execution_count": 3,
     "metadata": {},
     "output_type": "execute_result"
    }
   ],
   "source": [
    "#Все ингредиенты пиццы есть в шаверме?\n",
    "pizza.issubset(shaverma)"
   ]
  },
  {
   "cell_type": "code",
   "execution_count": 4,
   "metadata": {},
   "outputs": [
    {
     "data": {
      "text/plain": [
       "False"
      ]
     },
     "execution_count": 4,
     "metadata": {},
     "output_type": "execute_result"
    }
   ],
   "source": [
    "#Все ингредиенты шавермы есть в пицце?\n",
    "pizza.issuperset(shaverma)"
   ]
  },
  {
   "cell_type": "code",
   "execution_count": 5,
   "metadata": {},
   "outputs": [
    {
     "data": {
      "text/plain": [
       "{'a lot of cheeeese',\n",
       " 'cabbage',\n",
       " 'cucumbers',\n",
       " 'dough',\n",
       " 'fried chicken',\n",
       " 'garlic',\n",
       " 'ground pepper',\n",
       " 'lavash',\n",
       " 'onion',\n",
       " 'oregano',\n",
       " 'pepperoni',\n",
       " 'salt',\n",
       " 'sauce',\n",
       " 'sweet basil',\n",
       " 'tomatoes'}"
      ]
     },
     "execution_count": 5,
     "metadata": {},
     "output_type": "execute_result"
    }
   ],
   "source": [
    "#Все ингредиенты пиццы и шавермы\n",
    "set.union(pizza, shaverma)"
   ]
  },
  {
   "cell_type": "code",
   "execution_count": 6,
   "metadata": {},
   "outputs": [
    {
     "data": {
      "text/plain": [
       "{'onion', 'tomatoes'}"
      ]
     },
     "execution_count": 6,
     "metadata": {},
     "output_type": "execute_result"
    }
   ],
   "source": [
    "#Ингредиенты,которые есть и в пицце и шаверме\n",
    "set.intersection(pizza, shaverma)"
   ]
  },
  {
   "cell_type": "code",
   "execution_count": 7,
   "metadata": {},
   "outputs": [
    {
     "data": {
      "text/plain": [
       "{'a lot of cheeeese',\n",
       " 'cabbage',\n",
       " 'cucumbers',\n",
       " 'dough',\n",
       " 'fried chicken',\n",
       " 'garlic',\n",
       " 'ground pepper',\n",
       " 'lavash',\n",
       " 'oregano',\n",
       " 'pepperoni',\n",
       " 'salt',\n",
       " 'sauce',\n",
       " 'sweet basil'}"
      ]
     },
     "execution_count": 7,
     "metadata": {},
     "output_type": "execute_result"
    }
   ],
   "source": [
    "#Уникальные ингредиенты каждого блюда\n",
    "pizza.symmetric_difference(shaverma)"
   ]
  }
 ],
 "metadata": {
  "kernelspec": {
   "display_name": "Python 3",
   "language": "python",
   "name": "python3"
  },
  "language_info": {
   "codemirror_mode": {
    "name": "ipython",
    "version": 3
   },
   "file_extension": ".py",
   "mimetype": "text/x-python",
   "name": "python",
   "nbconvert_exporter": "python",
   "pygments_lexer": "ipython3",
   "version": "3.7.4"
  }
 },
 "nbformat": 4,
 "nbformat_minor": 2
}
